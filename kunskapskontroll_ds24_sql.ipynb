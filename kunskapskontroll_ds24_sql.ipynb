{
 "cells": [
  {
   "cell_type": "markdown",
   "metadata": {},
   "source": [
    "# Kunskapskontroll_ds24_sql"
   ]
  },
  {
   "cell_type": "markdown",
   "metadata": {},
   "source": [
    "### Teoretiska Frågor\n",
    "\n",
    "1. Beskriv kort hur en relationsdatabas fungerar.\n",
    "- En relationsdatabas är en typ av databas där datan är oganiserad i tabell-form bestående av många rader och kolumner. Det finns en tydlig relation mellan de olika tabellerna i en databas.\n",
    "2. Vad menas med “CRUD”-flödet?\n",
    "- CRUD är en akronym som står för Create, Read, Update och Delete. Create funktionen används för att lägga till nya rader i en tabell. Read används för att göra en query som läser ut data från en tabell. Update syftar till att uppdatera en gammal data i en tabell medan Delete funktionen används för att radera ut data från en existerande tabell.\n",
    "3. Beskriv kort vad en “left join” och en “inner join” är. Varför använder man det?\n",
    "- En \"left join\" och en “inner join” används för att göra en koppling mellan olika tabeller i en databas. En \"left join\" används främst för att få fram all data från en tabell som man angett som den vänstra tabellen medan \"inner join\" används för att få fram data som är gemensam för båda tabellerna som man jobbar med i en viss query.\n",
    "4. Beskriv kort vad indexering i SQL innebär.\n",
    "- Indexering är en metod som används för att leta upp data eller matchande result en tabell som uppfyller vissa kreterier på ett snabbare sätt.\n",
    "5. Beskriv kort vad en vy i SQL är.\n",
    "- En vy är en tabell som man själv skapar för ett specifikt ändamål med hjälp av en query som man ställer till databasen.\n",
    "6. Beskriv kort vad en lagrad procedur i SQL är.\n",
    "- En lagrad procedur är precis som namnet antyder, en sparad kod som går att återanvändas flera gånger. Dess syfte är att underlätta användningen av en kod men också för att behålla konsistenta resultat i de fall koden används av flera individer."
   ]
  },
  {
   "cell_type": "code",
   "execution_count": 96,
   "metadata": {},
   "outputs": [
    {
     "name": "stdout",
     "output_type": "stream",
     "text": [
      "Requirement already satisfied: sqlalchemy in c:\\users\\abdel\\anaconda 1\\lib\\site-packages (2.0.30)\n",
      "Requirement already satisfied: typing-extensions>=4.6.0 in c:\\users\\abdel\\anaconda 1\\lib\\site-packages (from sqlalchemy) (4.11.0)\n",
      "Requirement already satisfied: greenlet!=0.4.17 in c:\\users\\abdel\\anaconda 1\\lib\\site-packages (from sqlalchemy) (3.0.1)\n",
      "Requirement already satisfied: pyodbc in c:\\users\\abdel\\anaconda 1\\lib\\site-packages (5.0.1)\n"
     ]
    }
   ],
   "source": [
    "! pip install sqlalchemy\n",
    "! pip install pyodbc"
   ]
  },
  {
   "cell_type": "code",
   "execution_count": 170,
   "metadata": {},
   "outputs": [],
   "source": [
    "from sqlalchemy import create_engine, URL, inspect\n",
    "import math\n",
    "import numpy as np\n",
    "import pandas as pd\n",
    "import seaborn as sns\n",
    "import matplotlib.pyplot as plt\n",
    "from scipy.stats import ttest_ind\n"
   ]
  },
  {
   "cell_type": "code",
   "execution_count": 186,
   "metadata": {},
   "outputs": [],
   "source": [
    "SERVER = 'localhost'\n",
    "DATABAS = 'AdventureWorks2022'\n",
    "\n",
    "connection_string = f'DRIVER={{ODBC Driver 18 for SQL Server}};SERVER={SERVER};DATABASE={DATABAS};Trusted_Connection=yes;Encrypt=no'\n",
    "\n",
    "connection_url =URL.create('mssql+pyodbc', query={'odbc_connect': connection_string})\n",
    "\n",
    "engine = create_engine(connection_url)"
   ]
  },
  {
   "cell_type": "markdown",
   "metadata": {},
   "source": [
    "Server och databas variablerna definerar namnet på platsen där databasen befinner sig i på datorn (localhost) och namnet på databasen man vill kopplas till (Adventureworks2022). Connections_string visar information på de detaljer som krävs för att kunna genomföra en uppkoppling till en databas. Den innehåller exempelvis information om man använder windows authentication eller användarnamn och lösenord för att koppla sig till databasen. connection_url processar uppkopplingen för att göra det mer anppassat till python språket. Slutligen används engine funktionen för att skapa uppkopplingen och interaktionen med databasen för att kunna börja genomföra förfrågningar från databasen"
   ]
  },
  {
   "cell_type": "code",
   "execution_count": 3,
   "metadata": {},
   "outputs": [
    {
     "name": "stdout",
     "output_type": "stream",
     "text": [
      "<class 'sqlalchemy.engine.base.Engine'>\n"
     ]
    }
   ],
   "source": [
    "print(type(engine))"
   ]
  },
  {
   "cell_type": "code",
   "execution_count": 4,
   "metadata": {},
   "outputs": [
    {
     "name": "stdout",
     "output_type": "stream",
     "text": [
      "<class 'sqlalchemy.engine.base.Connection'>\n"
     ]
    }
   ],
   "source": [
    "connection = engine.connect()\n",
    "print(type(connection))"
   ]
  },
  {
   "cell_type": "code",
   "execution_count": 179,
   "metadata": {},
   "outputs": [
    {
     "name": "stdout",
     "output_type": "stream",
     "text": [
      "db_accessadmin\n",
      "db_backupoperator\n",
      "db_datareader\n",
      "db_datawriter\n",
      "db_ddladmin\n",
      "db_denydatareader\n",
      "db_denydatawriter\n",
      "db_owner\n",
      "db_securityadmin\n",
      "dbo\n",
      "guest\n",
      "HumanResources\n",
      "INFORMATION_SCHEMA\n",
      "Person\n",
      "Production\n",
      "Purchasing\n",
      "Sales\n",
      "sys\n"
     ]
    }
   ],
   "source": [
    "inspector = inspect(engine)\n",
    "schemas = inspector.get_schema_names()\n",
    "for schema in schemas:\n",
    "    print(schema)"
   ]
  },
  {
   "cell_type": "code",
   "execution_count": 185,
   "metadata": {},
   "outputs": [
    {
     "name": "stdout",
     "output_type": "stream",
     "text": [
      "CountryRegionCurrency\n",
      "CreditCard\n",
      "Currency\n",
      "CurrencyRate\n",
      "Customer\n",
      "PersonCreditCard\n",
      "SalesOrderDetail\n",
      "SalesOrderHeader\n",
      "SalesOrderHeaderSalesReason\n",
      "SalesPerson\n",
      "SalesPersonQuotaHistory\n",
      "SalesReason\n",
      "SalesTaxRate\n",
      "SalesTerritory\n",
      "SalesTerritoryHistory\n",
      "ShoppingCartItem\n",
      "SpecialOffer\n",
      "SpecialOfferProduct\n",
      "Store\n"
     ]
    }
   ],
   "source": [
    "schemas = inspector.get_table_names(schema='Sales')\n",
    "for schema in schemas:\n",
    "    print(schema)"
   ]
  },
  {
   "cell_type": "code",
   "execution_count": 103,
   "metadata": {},
   "outputs": [
    {
     "name": "stdout",
     "output_type": "stream",
     "text": [
      "TerritoryID\n",
      "Name\n",
      "CountryRegionCode\n",
      "Group\n",
      "SalesYTD\n",
      "SalesLastYear\n",
      "CostYTD\n",
      "CostLastYear\n",
      "rowguid\n",
      "ModifiedDate\n"
     ]
    }
   ],
   "source": [
    "for col in inspector.get_columns(table_name='SalesTerritory', schema='Sales'):\n",
    "    print(col['name'])"
   ]
  },
  {
   "cell_type": "code",
   "execution_count": 105,
   "metadata": {},
   "outputs": [
    {
     "data": {
      "text/html": [
       "<div>\n",
       "<style scoped>\n",
       "    .dataframe tbody tr th:only-of-type {\n",
       "        vertical-align: middle;\n",
       "    }\n",
       "\n",
       "    .dataframe tbody tr th {\n",
       "        vertical-align: top;\n",
       "    }\n",
       "\n",
       "    .dataframe thead th {\n",
       "        text-align: right;\n",
       "    }\n",
       "</style>\n",
       "<table border=\"1\" class=\"dataframe\">\n",
       "  <thead>\n",
       "    <tr style=\"text-align: right;\">\n",
       "      <th></th>\n",
       "      <th>TerritoryID</th>\n",
       "      <th>Name</th>\n",
       "      <th>CountryRegionCode</th>\n",
       "      <th>Group</th>\n",
       "      <th>SalesYTD</th>\n",
       "      <th>SalesLastYear</th>\n",
       "      <th>CostYTD</th>\n",
       "      <th>CostLastYear</th>\n",
       "      <th>rowguid</th>\n",
       "      <th>ModifiedDate</th>\n",
       "    </tr>\n",
       "  </thead>\n",
       "  <tbody>\n",
       "    <tr>\n",
       "      <th>0</th>\n",
       "      <td>1</td>\n",
       "      <td>Northwest</td>\n",
       "      <td>US</td>\n",
       "      <td>North America</td>\n",
       "      <td>7.887187e+06</td>\n",
       "      <td>3.298694e+06</td>\n",
       "      <td>0.0</td>\n",
       "      <td>0.0</td>\n",
       "      <td>43689A10-E30B-497F-B0DE-11DE20267FF7</td>\n",
       "      <td>2008-04-30</td>\n",
       "    </tr>\n",
       "    <tr>\n",
       "      <th>1</th>\n",
       "      <td>2</td>\n",
       "      <td>Northeast</td>\n",
       "      <td>US</td>\n",
       "      <td>North America</td>\n",
       "      <td>2.402177e+06</td>\n",
       "      <td>3.607149e+06</td>\n",
       "      <td>0.0</td>\n",
       "      <td>0.0</td>\n",
       "      <td>00FB7309-96CC-49E2-8363-0A1BA72486F2</td>\n",
       "      <td>2008-04-30</td>\n",
       "    </tr>\n",
       "    <tr>\n",
       "      <th>2</th>\n",
       "      <td>3</td>\n",
       "      <td>Central</td>\n",
       "      <td>US</td>\n",
       "      <td>North America</td>\n",
       "      <td>3.072175e+06</td>\n",
       "      <td>3.205014e+06</td>\n",
       "      <td>0.0</td>\n",
       "      <td>0.0</td>\n",
       "      <td>DF6E7FD8-1A8D-468C-B103-ED8ADDB452C1</td>\n",
       "      <td>2008-04-30</td>\n",
       "    </tr>\n",
       "    <tr>\n",
       "      <th>3</th>\n",
       "      <td>4</td>\n",
       "      <td>Southwest</td>\n",
       "      <td>US</td>\n",
       "      <td>North America</td>\n",
       "      <td>1.051085e+07</td>\n",
       "      <td>5.366576e+06</td>\n",
       "      <td>0.0</td>\n",
       "      <td>0.0</td>\n",
       "      <td>DC3E9EA0-7950-4431-9428-99DBCBC33865</td>\n",
       "      <td>2008-04-30</td>\n",
       "    </tr>\n",
       "    <tr>\n",
       "      <th>4</th>\n",
       "      <td>5</td>\n",
       "      <td>Southeast</td>\n",
       "      <td>US</td>\n",
       "      <td>North America</td>\n",
       "      <td>2.538667e+06</td>\n",
       "      <td>3.925071e+06</td>\n",
       "      <td>0.0</td>\n",
       "      <td>0.0</td>\n",
       "      <td>6DC4165A-5E4C-42D2-809D-4344E0AC75E7</td>\n",
       "      <td>2008-04-30</td>\n",
       "    </tr>\n",
       "    <tr>\n",
       "      <th>5</th>\n",
       "      <td>6</td>\n",
       "      <td>Canada</td>\n",
       "      <td>CA</td>\n",
       "      <td>North America</td>\n",
       "      <td>6.771829e+06</td>\n",
       "      <td>5.693989e+06</td>\n",
       "      <td>0.0</td>\n",
       "      <td>0.0</td>\n",
       "      <td>06B4AF8A-1639-476E-9266-110461D66B00</td>\n",
       "      <td>2008-04-30</td>\n",
       "    </tr>\n",
       "    <tr>\n",
       "      <th>6</th>\n",
       "      <td>7</td>\n",
       "      <td>France</td>\n",
       "      <td>FR</td>\n",
       "      <td>Europe</td>\n",
       "      <td>4.772398e+06</td>\n",
       "      <td>2.396540e+06</td>\n",
       "      <td>0.0</td>\n",
       "      <td>0.0</td>\n",
       "      <td>BF806804-9B4C-4B07-9D19-706F2E689552</td>\n",
       "      <td>2008-04-30</td>\n",
       "    </tr>\n",
       "    <tr>\n",
       "      <th>7</th>\n",
       "      <td>8</td>\n",
       "      <td>Germany</td>\n",
       "      <td>DE</td>\n",
       "      <td>Europe</td>\n",
       "      <td>3.805202e+06</td>\n",
       "      <td>1.307950e+06</td>\n",
       "      <td>0.0</td>\n",
       "      <td>0.0</td>\n",
       "      <td>6D2450DB-8159-414F-A917-E73EE91C38A9</td>\n",
       "      <td>2008-04-30</td>\n",
       "    </tr>\n",
       "    <tr>\n",
       "      <th>8</th>\n",
       "      <td>9</td>\n",
       "      <td>Australia</td>\n",
       "      <td>AU</td>\n",
       "      <td>Pacific</td>\n",
       "      <td>5.977815e+06</td>\n",
       "      <td>2.278549e+06</td>\n",
       "      <td>0.0</td>\n",
       "      <td>0.0</td>\n",
       "      <td>602E612E-DFE9-41D9-B894-27E489747885</td>\n",
       "      <td>2008-04-30</td>\n",
       "    </tr>\n",
       "    <tr>\n",
       "      <th>9</th>\n",
       "      <td>10</td>\n",
       "      <td>United Kingdom</td>\n",
       "      <td>GB</td>\n",
       "      <td>Europe</td>\n",
       "      <td>5.012905e+06</td>\n",
       "      <td>1.635823e+06</td>\n",
       "      <td>0.0</td>\n",
       "      <td>0.0</td>\n",
       "      <td>05FC7E1F-2DEA-414E-9ECD-09D150516FB5</td>\n",
       "      <td>2008-04-30</td>\n",
       "    </tr>\n",
       "  </tbody>\n",
       "</table>\n",
       "</div>"
      ],
      "text/plain": [
       "   TerritoryID            Name CountryRegionCode          Group      SalesYTD  \\\n",
       "0            1       Northwest                US  North America  7.887187e+06   \n",
       "1            2       Northeast                US  North America  2.402177e+06   \n",
       "2            3         Central                US  North America  3.072175e+06   \n",
       "3            4       Southwest                US  North America  1.051085e+07   \n",
       "4            5       Southeast                US  North America  2.538667e+06   \n",
       "5            6          Canada                CA  North America  6.771829e+06   \n",
       "6            7          France                FR         Europe  4.772398e+06   \n",
       "7            8         Germany                DE         Europe  3.805202e+06   \n",
       "8            9       Australia                AU        Pacific  5.977815e+06   \n",
       "9           10  United Kingdom                GB         Europe  5.012905e+06   \n",
       "\n",
       "   SalesLastYear  CostYTD  CostLastYear                               rowguid  \\\n",
       "0   3.298694e+06      0.0           0.0  43689A10-E30B-497F-B0DE-11DE20267FF7   \n",
       "1   3.607149e+06      0.0           0.0  00FB7309-96CC-49E2-8363-0A1BA72486F2   \n",
       "2   3.205014e+06      0.0           0.0  DF6E7FD8-1A8D-468C-B103-ED8ADDB452C1   \n",
       "3   5.366576e+06      0.0           0.0  DC3E9EA0-7950-4431-9428-99DBCBC33865   \n",
       "4   3.925071e+06      0.0           0.0  6DC4165A-5E4C-42D2-809D-4344E0AC75E7   \n",
       "5   5.693989e+06      0.0           0.0  06B4AF8A-1639-476E-9266-110461D66B00   \n",
       "6   2.396540e+06      0.0           0.0  BF806804-9B4C-4B07-9D19-706F2E689552   \n",
       "7   1.307950e+06      0.0           0.0  6D2450DB-8159-414F-A917-E73EE91C38A9   \n",
       "8   2.278549e+06      0.0           0.0  602E612E-DFE9-41D9-B894-27E489747885   \n",
       "9   1.635823e+06      0.0           0.0  05FC7E1F-2DEA-414E-9ECD-09D150516FB5   \n",
       "\n",
       "  ModifiedDate  \n",
       "0   2008-04-30  \n",
       "1   2008-04-30  \n",
       "2   2008-04-30  \n",
       "3   2008-04-30  \n",
       "4   2008-04-30  \n",
       "5   2008-04-30  \n",
       "6   2008-04-30  \n",
       "7   2008-04-30  \n",
       "8   2008-04-30  \n",
       "9   2008-04-30  "
      ]
     },
     "execution_count": 105,
     "metadata": {},
     "output_type": "execute_result"
    }
   ],
   "source": [
    "df = pd.read_sql(\"SELECT * from Sales.SalesTerritory\", con=connection)\n",
    "df.head(10)"
   ]
  },
  {
   "cell_type": "code",
   "execution_count": 142,
   "metadata": {},
   "outputs": [
    {
     "data": {
      "text/html": [
       "<div>\n",
       "<style scoped>\n",
       "    .dataframe tbody tr th:only-of-type {\n",
       "        vertical-align: middle;\n",
       "    }\n",
       "\n",
       "    .dataframe tbody tr th {\n",
       "        vertical-align: top;\n",
       "    }\n",
       "\n",
       "    .dataframe thead th {\n",
       "        text-align: right;\n",
       "    }\n",
       "</style>\n",
       "<table border=\"1\" class=\"dataframe\">\n",
       "  <thead>\n",
       "    <tr style=\"text-align: right;\">\n",
       "      <th></th>\n",
       "      <th>JobTitle</th>\n",
       "      <th>nbr</th>\n",
       "    </tr>\n",
       "  </thead>\n",
       "  <tbody>\n",
       "    <tr>\n",
       "      <th>0</th>\n",
       "      <td>Production Technician - WC45</td>\n",
       "      <td>15</td>\n",
       "    </tr>\n",
       "    <tr>\n",
       "      <th>1</th>\n",
       "      <td>Sales Representative</td>\n",
       "      <td>14</td>\n",
       "    </tr>\n",
       "    <tr>\n",
       "      <th>2</th>\n",
       "      <td>Buyer</td>\n",
       "      <td>9</td>\n",
       "    </tr>\n",
       "    <tr>\n",
       "      <th>3</th>\n",
       "      <td>Marketing Specialist</td>\n",
       "      <td>5</td>\n",
       "    </tr>\n",
       "    <tr>\n",
       "      <th>4</th>\n",
       "      <td>Scheduling Assistant</td>\n",
       "      <td>4</td>\n",
       "    </tr>\n",
       "    <tr>\n",
       "      <th>5</th>\n",
       "      <td>Quality Assurance Technician</td>\n",
       "      <td>4</td>\n",
       "    </tr>\n",
       "  </tbody>\n",
       "</table>\n",
       "</div>"
      ],
      "text/plain": [
       "                       JobTitle  nbr\n",
       "0  Production Technician - WC45   15\n",
       "1          Sales Representative   14\n",
       "2                         Buyer    9\n",
       "3          Marketing Specialist    5\n",
       "4          Scheduling Assistant    4\n",
       "5  Quality Assurance Technician    4"
      ]
     },
     "execution_count": 142,
     "metadata": {},
     "output_type": "execute_result"
    }
   ],
   "source": [
    "Anställda_Per_tjänst = \"\"\"\n",
    "SELECT TOP 6\n",
    "    JobTitle,\n",
    "    COUNT(*) AS nbr\n",
    "FROM HumanResources.Employee AS e\n",
    "GROUP BY JobTitle\n",
    "HAVING COUNT(*) < 16 OR COUNT(*) = 4\n",
    "ORDER BY nbr DESC;\n",
    "\"\"\"\n",
    "view = pd.read_sql(Anställda_Per_tjänst, con=connection)\n",
    "view"
   ]
  },
  {
   "cell_type": "markdown",
   "metadata": {},
   "source": [
    "I tabellen ovan kan vi se hur många anställda som finns för de tjänster vi har valt att ha med i queryn. Exempelvis kan vi konstatera att (Production Technician -WC45) har högst antal anställda just i den här tabellen med 15 st anställda. Näst på listan har vi (Sales Representative) med 14 st anställda i företaget. Genom att exklusivt välja ut kolumnen jobtitle och räkna ut hur många som jobbar på respektive tjänst, sen gruppera tabellen utifrån jobtitle och begränsa antalet anställda till mellan 15 och 4 har jag kunnat komma fram till det önskade resultatet. "
   ]
  },
  {
   "cell_type": "code",
   "execution_count": 174,
   "metadata": {},
   "outputs": [
    {
     "data": {
      "image/png": "[encoded data removed]",
      "text/plain": [
       "<Figure size 900x500 with 1 Axes>"
      ]
     },
     "metadata": {},
     "output_type": "display_data"
    }
   ],
   "source": [
    "Employees = view.sort_values(by='nbr', ascending=False)\n",
    "x = Employees['JobTitle']\n",
    "y = Employees['nbr']\n",
    "\n",
    "plt.figure(figsize=(9, 5))\n",
    "plt.bar(x, y, color='darkgreen')\n",
    "plt.xlabel(\"JobTitle\")\n",
    "plt.ylabel(\"Antalet anställda\")\n",
    "plt.title(\"Antalet anställda för varje tjänst\") \n",
    "plt.xticks(rotation=45, ha='right') \n",
    "plt.tight_layout()\n",
    "plt.show()\n"
   ]
  },
  {
   "cell_type": "markdown",
   "metadata": {},
   "source": [
    "Med hjälp av matplotlib kan man visualisera tabellen som vi har ovan i form av en stapeldiagram. Vi har antalet anställda på y-axeln och de 6 olika tjänsterna på x-axeln. Dessutom har jag rangordnat datan efter antalet anställda (nbr) och i fallande ordning."
   ]
  },
  {
   "cell_type": "code",
   "execution_count": 94,
   "metadata": {},
   "outputs": [
    {
     "data": {
      "text/html": [
       "<div>\n",
       "<style scoped>\n",
       "    .dataframe tbody tr th:only-of-type {\n",
       "        vertical-align: middle;\n",
       "    }\n",
       "\n",
       "    .dataframe tbody tr th {\n",
       "        vertical-align: top;\n",
       "    }\n",
       "\n",
       "    .dataframe thead th {\n",
       "        text-align: right;\n",
       "    }\n",
       "</style>\n",
       "<table border=\"1\" class=\"dataframe\">\n",
       "  <thead>\n",
       "    <tr style=\"text-align: right;\">\n",
       "      <th></th>\n",
       "      <th>CustomerID</th>\n",
       "      <th>ProductName</th>\n",
       "      <th>ProductID</th>\n",
       "      <th>PurchaseCount</th>\n",
       "    </tr>\n",
       "  </thead>\n",
       "  <tbody>\n",
       "    <tr>\n",
       "      <th>0</th>\n",
       "      <td>11091</td>\n",
       "      <td>Patch Kit/8 Patches</td>\n",
       "      <td>873</td>\n",
       "      <td>10</td>\n",
       "    </tr>\n",
       "    <tr>\n",
       "      <th>1</th>\n",
       "      <td>11331</td>\n",
       "      <td>Patch Kit/8 Patches</td>\n",
       "      <td>873</td>\n",
       "      <td>10</td>\n",
       "    </tr>\n",
       "    <tr>\n",
       "      <th>2</th>\n",
       "      <td>11262</td>\n",
       "      <td>Patch Kit/8 Patches</td>\n",
       "      <td>873</td>\n",
       "      <td>9</td>\n",
       "    </tr>\n",
       "    <tr>\n",
       "      <th>3</th>\n",
       "      <td>11176</td>\n",
       "      <td>Patch Kit/8 Patches</td>\n",
       "      <td>873</td>\n",
       "      <td>9</td>\n",
       "    </tr>\n",
       "    <tr>\n",
       "      <th>4</th>\n",
       "      <td>11287</td>\n",
       "      <td>Patch Kit/8 Patches</td>\n",
       "      <td>873</td>\n",
       "      <td>8</td>\n",
       "    </tr>\n",
       "    <tr>\n",
       "      <th>5</th>\n",
       "      <td>11566</td>\n",
       "      <td>Patch Kit/8 Patches</td>\n",
       "      <td>873</td>\n",
       "      <td>8</td>\n",
       "    </tr>\n",
       "    <tr>\n",
       "      <th>6</th>\n",
       "      <td>11276</td>\n",
       "      <td>Patch Kit/8 Patches</td>\n",
       "      <td>873</td>\n",
       "      <td>7</td>\n",
       "    </tr>\n",
       "    <tr>\n",
       "      <th>7</th>\n",
       "      <td>11203</td>\n",
       "      <td>Patch Kit/8 Patches</td>\n",
       "      <td>873</td>\n",
       "      <td>7</td>\n",
       "    </tr>\n",
       "    <tr>\n",
       "      <th>8</th>\n",
       "      <td>11185</td>\n",
       "      <td>Patch Kit/8 Patches</td>\n",
       "      <td>873</td>\n",
       "      <td>7</td>\n",
       "    </tr>\n",
       "    <tr>\n",
       "      <th>9</th>\n",
       "      <td>11277</td>\n",
       "      <td>Patch Kit/8 Patches</td>\n",
       "      <td>873</td>\n",
       "      <td>6</td>\n",
       "    </tr>\n",
       "    <tr>\n",
       "      <th>10</th>\n",
       "      <td>11300</td>\n",
       "      <td>Patch Kit/8 Patches</td>\n",
       "      <td>873</td>\n",
       "      <td>6</td>\n",
       "    </tr>\n",
       "    <tr>\n",
       "      <th>11</th>\n",
       "      <td>11212</td>\n",
       "      <td>Patch Kit/8 Patches</td>\n",
       "      <td>873</td>\n",
       "      <td>5</td>\n",
       "    </tr>\n",
       "  </tbody>\n",
       "</table>\n",
       "</div>"
      ],
      "text/plain": [
       "    CustomerID          ProductName  ProductID  PurchaseCount\n",
       "0        11091  Patch Kit/8 Patches        873             10\n",
       "1        11331  Patch Kit/8 Patches        873             10\n",
       "2        11262  Patch Kit/8 Patches        873              9\n",
       "3        11176  Patch Kit/8 Patches        873              9\n",
       "4        11287  Patch Kit/8 Patches        873              8\n",
       "5        11566  Patch Kit/8 Patches        873              8\n",
       "6        11276  Patch Kit/8 Patches        873              7\n",
       "7        11203  Patch Kit/8 Patches        873              7\n",
       "8        11185  Patch Kit/8 Patches        873              7\n",
       "9        11277  Patch Kit/8 Patches        873              6\n",
       "10       11300  Patch Kit/8 Patches        873              6\n",
       "11       11212  Patch Kit/8 Patches        873              5"
      ]
     },
     "execution_count": 94,
     "metadata": {},
     "output_type": "execute_result"
    }
   ],
   "source": [
    "multijoin_query = \"\"\"\n",
    "SELECT \n",
    "  A.CustomerID, \n",
    "  D.Name AS ProductName,\n",
    "  C.ProductID,\n",
    "  COUNT(*) AS PurchaseCount\n",
    "FROM Sales.Customer AS A\n",
    "INNER JOIN Sales.SalesOrderHeader AS B \n",
    "    ON A.CustomerID = B.CustomerID\n",
    "INNER JOIN Sales.SalesOrderDetail AS C \n",
    "    ON B.SalesOrderID = C.SalesOrderID\n",
    "INNER JOIN Production.Product AS D\n",
    "    ON C.ProductID = D.ProductID\n",
    "WHERE C.ProductID = '873'\n",
    "GROUP BY A.CustomerID, D.Name, C.ProductID\n",
    "ORDER BY PurchaseCount DESC;\n",
    "\"\"\"\n",
    "join_df = pd.read_sql(multijoin_query, con=connection)\n",
    "join_df.head(12)"
   ]
  },
  {
   "cell_type": "markdown",
   "metadata": {},
   "source": [
    "# \n",
    "I tabellen ovan ser vi vilka kunder som har beställt en viss produkt med namnet (Patch Kit/8 Patches) och ProductID (873) mest. Med denna query har jag kunnat lista ut topp 12 kunder som har beställt produkten mest. Exempelvis har vi kunder med CustomerID (11091) och (11331) som ligger på topp i antalet ordrar av produkten med 10 beställningar var. Jag har specifikt valt ut CustomerID, ProductName, C.ProductID och räknade ut hur många antal produkter varje kund har köpt med hjälp av (COUNT(*) AS PurchaseCount). Sen joinade jag mellan de relevanta tabellerna i denna queryn och använde WHERE funktionen för att filtrera förfrågan efter produkten som jag är intresserad över (873)."
   ]
  },
  {
   "cell_type": "code",
   "execution_count": null,
   "metadata": {},
   "outputs": [
    {
     "data": {
      "text/html": [
       "<div>\n",
       "<style scoped>\n",
       "    .dataframe tbody tr th:only-of-type {\n",
       "        vertical-align: middle;\n",
       "    }\n",
       "\n",
       "    .dataframe tbody tr th {\n",
       "        vertical-align: top;\n",
       "    }\n",
       "\n",
       "    .dataframe thead th {\n",
       "        text-align: right;\n",
       "    }\n",
       "</style>\n",
       "<table border=\"1\" class=\"dataframe\">\n",
       "  <thead>\n",
       "    <tr style=\"text-align: right;\">\n",
       "      <th></th>\n",
       "      <th>Employee name</th>\n",
       "      <th>BusinessEntityID</th>\n",
       "      <th>TotalSalesYTD</th>\n",
       "    </tr>\n",
       "  </thead>\n",
       "  <tbody>\n",
       "    <tr>\n",
       "      <th>0</th>\n",
       "      <td>Linda Mitchell</td>\n",
       "      <td>276</td>\n",
       "      <td>4251369.0</td>\n",
       "    </tr>\n",
       "    <tr>\n",
       "      <th>1</th>\n",
       "      <td>Jae Pak</td>\n",
       "      <td>289</td>\n",
       "      <td>4116871.0</td>\n",
       "    </tr>\n",
       "    <tr>\n",
       "      <th>2</th>\n",
       "      <td>Michael Blythe</td>\n",
       "      <td>275</td>\n",
       "      <td>3763178.0</td>\n",
       "    </tr>\n",
       "    <tr>\n",
       "      <th>3</th>\n",
       "      <td>Jillian Carson</td>\n",
       "      <td>277</td>\n",
       "      <td>3189418.0</td>\n",
       "    </tr>\n",
       "    <tr>\n",
       "      <th>4</th>\n",
       "      <td>Ranjit Varkey Chudukatil</td>\n",
       "      <td>290</td>\n",
       "      <td>3121616.0</td>\n",
       "    </tr>\n",
       "    <tr>\n",
       "      <th>5</th>\n",
       "      <td>José Saraiva</td>\n",
       "      <td>282</td>\n",
       "      <td>2604541.0</td>\n",
       "    </tr>\n",
       "    <tr>\n",
       "      <th>6</th>\n",
       "      <td>Shu Ito</td>\n",
       "      <td>281</td>\n",
       "      <td>2458536.0</td>\n",
       "    </tr>\n",
       "    <tr>\n",
       "      <th>7</th>\n",
       "      <td>Tsvi Reiter</td>\n",
       "      <td>279</td>\n",
       "      <td>2315186.0</td>\n",
       "    </tr>\n",
       "    <tr>\n",
       "      <th>8</th>\n",
       "      <td>Rachel Valdez</td>\n",
       "      <td>288</td>\n",
       "      <td>1827067.0</td>\n",
       "    </tr>\n",
       "    <tr>\n",
       "      <th>9</th>\n",
       "      <td>Tete Mensa-Annan</td>\n",
       "      <td>284</td>\n",
       "      <td>1576562.0</td>\n",
       "    </tr>\n",
       "  </tbody>\n",
       "</table>\n",
       "</div>"
      ],
      "text/plain": [
       "              Employee name  BusinessEntityID  TotalSalesYTD\n",
       "0            Linda Mitchell               276      4251369.0\n",
       "1                   Jae Pak               289      4116871.0\n",
       "2            Michael Blythe               275      3763178.0\n",
       "3            Jillian Carson               277      3189418.0\n",
       "4  Ranjit Varkey Chudukatil               290      3121616.0\n",
       "5              José Saraiva               282      2604541.0\n",
       "6                   Shu Ito               281      2458536.0\n",
       "7               Tsvi Reiter               279      2315186.0\n",
       "8             Rachel Valdez               288      1827067.0\n",
       "9          Tete Mensa-Annan               284      1576562.0"
      ]
     },
     "execution_count": 109,
     "metadata": {},
     "output_type": "execute_result"
    }
   ],
   "source": [
    "Sales_Employee = \"\"\" \n",
    "SELECT TOP 10\n",
    "  A.FirstName + ' ' + A.LastName as [Employee name],\n",
    "  B.BusinessEntityID,\n",
    "  ROUND(B.SalesYTD, 0) AS [TotalSalesYTD]\n",
    "FROM Sales.SalesPerson AS B\n",
    "JOIN Person.Person AS A ON B.BusinessEntityID = A.BusinessEntityID\n",
    "ORDER BY B.SalesYTD DESC;\n",
    " \"\"\"\n",
    "view = pd.read_sql(sql=Sales_Employee, con=connection)\n",
    "view"
   ]
  },
  {
   "cell_type": "markdown",
   "metadata": {},
   "source": [
    "Tabellen visar oss de 10 topp anställda som har sålt mest sen början av kalenderåret (SalesYTD). På första platsen har vi Linda Mitchell som har sålt totalt 4 251 369. På tionde platsen har vi Tete Mensa-Annan som totalt har sålt 1 576 562. Från tabellen kan vi understrycka att det inte råder några avvikelser eller extrema värden mellan de 10 topp anställda i förhållande till den totala försäljningen senaste året, utan de olika värden ligger rätt nära varandra. Tabellen kan vara en indikation på vilka som har presterat bäst det senaste kalenderåret i datan."
   ]
  },
  {
   "cell_type": "code",
   "execution_count": null,
   "metadata": {},
   "outputs": [
    {
     "data": {
      "text/html": [
       "<div>\n",
       "<style scoped>\n",
       "    .dataframe tbody tr th:only-of-type {\n",
       "        vertical-align: middle;\n",
       "    }\n",
       "\n",
       "    .dataframe tbody tr th {\n",
       "        vertical-align: top;\n",
       "    }\n",
       "\n",
       "    .dataframe thead th {\n",
       "        text-align: right;\n",
       "    }\n",
       "</style>\n",
       "<table border=\"1\" class=\"dataframe\">\n",
       "  <thead>\n",
       "    <tr style=\"text-align: right;\">\n",
       "      <th></th>\n",
       "      <th>BusinessEntityID</th>\n",
       "      <th>Employee Name</th>\n",
       "      <th>JobTitle</th>\n",
       "      <th>Gender</th>\n",
       "      <th>BirthDate</th>\n",
       "    </tr>\n",
       "  </thead>\n",
       "  <tbody>\n",
       "    <tr>\n",
       "      <th>0</th>\n",
       "      <td>84</td>\n",
       "      <td>Frank Martinez</td>\n",
       "      <td>Production Technician - WC40</td>\n",
       "      <td>M</td>\n",
       "      <td>1952-03-02</td>\n",
       "    </tr>\n",
       "    <tr>\n",
       "      <th>1</th>\n",
       "      <td>256</td>\n",
       "      <td>Frank Pellow</td>\n",
       "      <td>Buyer</td>\n",
       "      <td>M</td>\n",
       "      <td>1952-05-12</td>\n",
       "    </tr>\n",
       "    <tr>\n",
       "      <th>2</th>\n",
       "      <td>5</td>\n",
       "      <td>Gail Erickson</td>\n",
       "      <td>Design Engineer</td>\n",
       "      <td>F</td>\n",
       "      <td>1952-09-27</td>\n",
       "    </tr>\n",
       "    <tr>\n",
       "      <th>3</th>\n",
       "      <td>140</td>\n",
       "      <td>Prasanna Samarawickrama</td>\n",
       "      <td>Production Technician - WC20</td>\n",
       "      <td>M</td>\n",
       "      <td>1953-04-30</td>\n",
       "    </tr>\n",
       "    <tr>\n",
       "      <th>4</th>\n",
       "      <td>231</td>\n",
       "      <td>Jo Berry</td>\n",
       "      <td>Janitor</td>\n",
       "      <td>F</td>\n",
       "      <td>1954-04-24</td>\n",
       "    </tr>\n",
       "    <tr>\n",
       "      <th>5</th>\n",
       "      <td>63</td>\n",
       "      <td>Maciej Dusza</td>\n",
       "      <td>Production Technician - WC60</td>\n",
       "      <td>M</td>\n",
       "      <td>1955-01-30</td>\n",
       "    </tr>\n",
       "    <tr>\n",
       "      <th>6</th>\n",
       "      <td>40</td>\n",
       "      <td>JoLynn Dobney</td>\n",
       "      <td>Production Supervisor - WC60</td>\n",
       "      <td>F</td>\n",
       "      <td>1956-01-16</td>\n",
       "    </tr>\n",
       "    <tr>\n",
       "      <th>7</th>\n",
       "      <td>49</td>\n",
       "      <td>Barry Johnson</td>\n",
       "      <td>Production Technician - WC10</td>\n",
       "      <td>M</td>\n",
       "      <td>1956-03-26</td>\n",
       "    </tr>\n",
       "    <tr>\n",
       "      <th>8</th>\n",
       "      <td>53</td>\n",
       "      <td>Diane Glimp</td>\n",
       "      <td>Production Technician - WC10</td>\n",
       "      <td>F</td>\n",
       "      <td>1956-03-29</td>\n",
       "    </tr>\n",
       "    <tr>\n",
       "      <th>9</th>\n",
       "      <td>55</td>\n",
       "      <td>Taylor Maxwell</td>\n",
       "      <td>Production Supervisor - WC50</td>\n",
       "      <td>M</td>\n",
       "      <td>1956-04-01</td>\n",
       "    </tr>\n",
       "  </tbody>\n",
       "</table>\n",
       "</div>"
      ],
      "text/plain": [
       "   BusinessEntityID            Employee Name                      JobTitle  \\\n",
       "0                84           Frank Martinez  Production Technician - WC40   \n",
       "1               256             Frank Pellow                         Buyer   \n",
       "2                 5            Gail Erickson               Design Engineer   \n",
       "3               140  Prasanna Samarawickrama  Production Technician - WC20   \n",
       "4               231                 Jo Berry                       Janitor   \n",
       "5                63             Maciej Dusza  Production Technician - WC60   \n",
       "6                40            JoLynn Dobney  Production Supervisor - WC60   \n",
       "7                49            Barry Johnson  Production Technician - WC10   \n",
       "8                53              Diane Glimp  Production Technician - WC10   \n",
       "9                55           Taylor Maxwell  Production Supervisor - WC50   \n",
       "\n",
       "  Gender   BirthDate  \n",
       "0      M  1952-03-02  \n",
       "1      M  1952-05-12  \n",
       "2      F  1952-09-27  \n",
       "3      M  1953-04-30  \n",
       "4      F  1954-04-24  \n",
       "5      M  1955-01-30  \n",
       "6      F  1956-01-16  \n",
       "7      M  1956-03-26  \n",
       "8      F  1956-03-29  \n",
       "9      M  1956-04-01  "
      ]
     },
     "execution_count": 150,
     "metadata": {},
     "output_type": "execute_result"
    }
   ],
   "source": [
    "join_sql = \"\"\" \n",
    "SELECT TOP 10\n",
    "  A.BusinessEntityID,\n",
    "  B.FirstName + ' ' + B.LastName as [Employee Name],\n",
    "  A.JobTitle,\n",
    "  A.Gender,\n",
    "  A.BirthDate\n",
    "FROM HumanResources.Employee AS A\n",
    "JOIN Person.Person AS B ON A.BusinessEntityID = B.BusinessEntityID\n",
    "WHERE B.PersonType = 'EM'\n",
    "Order by BirthDate;\n",
    " \"\"\"\n",
    "df = pd.read_sql(sql=join_sql, con=connection)\n",
    "df"
   ]
  },
  {
   "cell_type": "markdown",
   "metadata": {},
   "source": [
    "Tabellen visar vilka de 10 äldsta anställda i företaget är, rangordnat efter deras födelsedag. Den visar också deras jobtitle ooch vilken kön de tillhör. Man skulle kunna använda tabellen för att forska vidare om ålder eller kön har någon korrelation till hur mycket man tjänar eller något annat variabel man vill studera. Genom att använda WHERE funktionen har jag kunnat filtrera förfrågan efter endast anställda (EM) eftersom Person.Person tabellen innehåller personer som antingen är kunder eller har andra roller i företaget."
   ]
  },
  {
   "cell_type": "code",
   "execution_count": 182,
   "metadata": {},
   "outputs": [
    {
     "data": {
      "text/html": [
       "<div>\n",
       "<style scoped>\n",
       "    .dataframe tbody tr th:only-of-type {\n",
       "        vertical-align: middle;\n",
       "    }\n",
       "\n",
       "    .dataframe tbody tr th {\n",
       "        vertical-align: top;\n",
       "    }\n",
       "\n",
       "    .dataframe thead th {\n",
       "        text-align: right;\n",
       "    }\n",
       "</style>\n",
       "<table border=\"1\" class=\"dataframe\">\n",
       "  <thead>\n",
       "    <tr style=\"text-align: right;\">\n",
       "      <th></th>\n",
       "      <th>ProductName</th>\n",
       "      <th>ProductID</th>\n",
       "      <th>TotalQuantitySold</th>\n",
       "    </tr>\n",
       "  </thead>\n",
       "  <tbody>\n",
       "    <tr>\n",
       "      <th>0</th>\n",
       "      <td>AWC Logo Cap</td>\n",
       "      <td>712</td>\n",
       "      <td>8311</td>\n",
       "    </tr>\n",
       "    <tr>\n",
       "      <th>1</th>\n",
       "      <td>Water Bottle - 30 oz.</td>\n",
       "      <td>870</td>\n",
       "      <td>6815</td>\n",
       "    </tr>\n",
       "    <tr>\n",
       "      <th>2</th>\n",
       "      <td>Sport-100 Helmet, Blue</td>\n",
       "      <td>711</td>\n",
       "      <td>6743</td>\n",
       "    </tr>\n",
       "    <tr>\n",
       "      <th>3</th>\n",
       "      <td>Long-Sleeve Logo Jersey, L</td>\n",
       "      <td>715</td>\n",
       "      <td>6592</td>\n",
       "    </tr>\n",
       "    <tr>\n",
       "      <th>4</th>\n",
       "      <td>Sport-100 Helmet, Black</td>\n",
       "      <td>708</td>\n",
       "      <td>6532</td>\n",
       "    </tr>\n",
       "    <tr>\n",
       "      <th>5</th>\n",
       "      <td>Sport-100 Helmet, Red</td>\n",
       "      <td>707</td>\n",
       "      <td>6266</td>\n",
       "    </tr>\n",
       "    <tr>\n",
       "      <th>6</th>\n",
       "      <td>Classic Vest, S</td>\n",
       "      <td>864</td>\n",
       "      <td>4247</td>\n",
       "    </tr>\n",
       "    <tr>\n",
       "      <th>7</th>\n",
       "      <td>Patch Kit/8 Patches</td>\n",
       "      <td>873</td>\n",
       "      <td>3865</td>\n",
       "    </tr>\n",
       "    <tr>\n",
       "      <th>8</th>\n",
       "      <td>Short-Sleeve Classic Jersey, XL</td>\n",
       "      <td>884</td>\n",
       "      <td>3864</td>\n",
       "    </tr>\n",
       "    <tr>\n",
       "      <th>9</th>\n",
       "      <td>Long-Sleeve Logo Jersey, M</td>\n",
       "      <td>714</td>\n",
       "      <td>3636</td>\n",
       "    </tr>\n",
       "  </tbody>\n",
       "</table>\n",
       "</div>"
      ],
      "text/plain": [
       "                       ProductName  ProductID  TotalQuantitySold\n",
       "0                     AWC Logo Cap        712               8311\n",
       "1            Water Bottle - 30 oz.        870               6815\n",
       "2           Sport-100 Helmet, Blue        711               6743\n",
       "3       Long-Sleeve Logo Jersey, L        715               6592\n",
       "4          Sport-100 Helmet, Black        708               6532\n",
       "5            Sport-100 Helmet, Red        707               6266\n",
       "6                  Classic Vest, S        864               4247\n",
       "7              Patch Kit/8 Patches        873               3865\n",
       "8  Short-Sleeve Classic Jersey, XL        884               3864\n",
       "9       Long-Sleeve Logo Jersey, M        714               3636"
      ]
     },
     "execution_count": 182,
     "metadata": {},
     "output_type": "execute_result"
    }
   ],
   "source": [
    "Sold_Products = \"\"\"\n",
    "SELECT TOP 10\n",
    " A.Name AS ProductName,\n",
    " A.ProductID,\n",
    " SUM(OrderQty) AS TotalQuantitySold\n",
    "FROM Sales.SalesOrderDetail AS B\n",
    "JOIN \n",
    " Production.Product AS A ON B.ProductID = A.ProductID\n",
    "GROUP BY A.ProductID, A.Name\n",
    "ORDER BY TotalQuantitySold DESC\n",
    " \"\"\"\n",
    "join_df = pd.read_sql(sql = Sold_Products, con=connection)\n",
    "join_df"
   ]
  },
  {
   "cell_type": "code",
   "execution_count": 188,
   "metadata": {},
   "outputs": [
    {
     "data": {
      "image/png": "[encoded data removed]",
      "text/plain": [
       "<Figure size 1000x500 with 1 Axes>"
      ]
     },
     "metadata": {},
     "output_type": "display_data"
    }
   ],
   "source": [
    "top_products = join_df.sort_values(by='TotalQuantitySold', ascending=False)\n",
    "x = top_products['TotalQuantitySold']\n",
    "y = top_products['ProductName']\n",
    "\n",
    "plt.figure(figsize=(10, 5))\n",
    "plt.barh(y, x, color='darkgreen')\n",
    "plt.xlabel(\"Antalet sålda produkter \")\n",
    "plt.ylabel(\"Produkt namn\")\n",
    "plt.title(\"Topp 10 mest sålda produkter\")\n",
    "plt.xticks(rotation=45, ha='right')  \n",
    "plt.tight_layout()\n",
    "plt.show()\n"
   ]
  },
  {
   "cell_type": "code",
   "execution_count": null,
   "metadata": {},
   "outputs": [
    {
     "data": {
      "text/html": [
       "<div>\n",
       "<style scoped>\n",
       "    .dataframe tbody tr th:only-of-type {\n",
       "        vertical-align: middle;\n",
       "    }\n",
       "\n",
       "    .dataframe tbody tr th {\n",
       "        vertical-align: top;\n",
       "    }\n",
       "\n",
       "    .dataframe thead th {\n",
       "        text-align: right;\n",
       "    }\n",
       "</style>\n",
       "<table border=\"1\" class=\"dataframe\">\n",
       "  <thead>\n",
       "    <tr style=\"text-align: right;\">\n",
       "      <th></th>\n",
       "      <th>Nbr of Customers</th>\n",
       "      <th>Country</th>\n",
       "      <th>AveragePurchaseAmount</th>\n",
       "    </tr>\n",
       "  </thead>\n",
       "  <tbody>\n",
       "    <tr>\n",
       "      <th>0</th>\n",
       "      <td>4405</td>\n",
       "      <td>US</td>\n",
       "      <td>5949.0527</td>\n",
       "    </tr>\n",
       "    <tr>\n",
       "      <th>1</th>\n",
       "      <td>909</td>\n",
       "      <td>FR</td>\n",
       "      <td>1862.9284</td>\n",
       "    </tr>\n",
       "  </tbody>\n",
       "</table>\n",
       "</div>"
      ],
      "text/plain": [
       "   Nbr of Customers Country  AveragePurchaseAmount\n",
       "0              4405      US              5949.0527\n",
       "1               909      FR              1862.9284"
      ]
     },
     "execution_count": 128,
     "metadata": {},
     "output_type": "execute_result"
    }
   ],
   "source": [
    "Avg_Purchase = \"\"\"\n",
    "SELECT \n",
    "COUNT(DISTINCT c.CustomerID) AS [Nbr of Customers],\n",
    "sp.CountryRegionCode AS Country, \n",
    "AVG(soh.TotalDue) AS AveragePurchaseAmount\n",
    "FROM Sales.SalesOrderHeader soh\n",
    "JOIN Sales.Customer c ON soh.CustomerID = c.CustomerID\n",
    "JOIN Person.Address a ON c.PersonID = a.AddressID\n",
    "JOIN Person.StateProvince sp ON a.StateProvinceID = sp.StateProvinceID\n",
    "WHERE sp.CountryRegionCode = 'US' OR sp.CountryRegionCode = 'FR'\n",
    "GROUP BY sp.CountryRegionCode\n",
    "ORDER BY AveragePurchaseAmount DESC;\n",
    "\"\"\"\n",
    "df = pd.read_sql(sql = Avg_Purchase, con=connection)\n",
    "df"
   ]
  },
  {
   "cell_type": "markdown",
   "metadata": {},
   "source": [
    "I denna queryn har jag valt att jämföra kundernas genomsnittliga köpsumman mellan USA och Frankrike. Jag kom fram till att den totala genomsnittliga köpsumman ligger någorlunda högre i USA jämfört med Frankrike. Kunder i Frankrike spenderar dock $0,92 högre än USA med avseende på antalet kunder i båda länderna. Konsumenter i USA spenderar i genomsnitt $1.35 (5949/4405) per person jämfört med konsumenter i Frankrike som spenderar i genomsnitt $2.27 (1863/909) per person."
   ]
  },
  {
   "cell_type": "code",
   "execution_count": 164,
   "metadata": {},
   "outputs": [
    {
     "data": {
      "text/html": [
       "<div>\n",
       "<style scoped>\n",
       "    .dataframe tbody tr th:only-of-type {\n",
       "        vertical-align: middle;\n",
       "    }\n",
       "\n",
       "    .dataframe tbody tr th {\n",
       "        vertical-align: top;\n",
       "    }\n",
       "\n",
       "    .dataframe thead th {\n",
       "        text-align: right;\n",
       "    }\n",
       "</style>\n",
       "<table border=\"1\" class=\"dataframe\">\n",
       "  <thead>\n",
       "    <tr style=\"text-align: right;\">\n",
       "      <th></th>\n",
       "      <th>Year</th>\n",
       "      <th>TotalSales</th>\n",
       "      <th>CountryRegionCode</th>\n",
       "    </tr>\n",
       "  </thead>\n",
       "  <tbody>\n",
       "    <tr>\n",
       "      <th>0</th>\n",
       "      <td>2013</td>\n",
       "      <td>26044344.0</td>\n",
       "      <td>US</td>\n",
       "    </tr>\n",
       "    <tr>\n",
       "      <th>1</th>\n",
       "      <td>2012</td>\n",
       "      <td>24606759.0</td>\n",
       "      <td>US</td>\n",
       "    </tr>\n",
       "    <tr>\n",
       "      <th>2</th>\n",
       "      <td>2014</td>\n",
       "      <td>10733041.0</td>\n",
       "      <td>US</td>\n",
       "    </tr>\n",
       "    <tr>\n",
       "      <th>3</th>\n",
       "      <td>2011</td>\n",
       "      <td>9445719.0</td>\n",
       "      <td>US</td>\n",
       "    </tr>\n",
       "  </tbody>\n",
       "</table>\n",
       "</div>"
      ],
      "text/plain": [
       "   Year  TotalSales CountryRegionCode\n",
       "0  2013  26044344.0                US\n",
       "1  2012  24606759.0                US\n",
       "2  2014  10733041.0                US\n",
       "3  2011   9445719.0                US"
      ]
     },
     "execution_count": 164,
     "metadata": {},
     "output_type": "execute_result"
    }
   ],
   "source": [
    "Yearly_Trend_US = \"\"\"\n",
    "SELECT \n",
    "    Year(soh.OrderDate) AS Year, \n",
    "    ROUND(SUM(soh.TotalDue), 0) AS TotalSales,\n",
    "\tsp.CountryRegionCode\n",
    "FROM Sales.SalesOrderHeader soh\n",
    "INNER JOIN Person.Address a \n",
    "    ON soh.BillToAddressID = a.AddressID\n",
    "INNER JOIN Person.StateProvince sp\n",
    "    ON a.StateProvinceID = sp.StateProvinceID\n",
    "WHERE sp.CountryRegionCode = 'US'\n",
    "GROUP BY Year(soh.OrderDate), sp.CountryRegionCode\n",
    "ORDER BY TotalSales DESC;\n",
    "\"\"\"\n",
    "data = pd.read_sql(sql = Yearly_Trend_US, con=connection)\n",
    "data"
   ]
  },
  {
   "cell_type": "markdown",
   "metadata": {},
   "source": [
    "Här ovan har vi en förfrågan som går ut på att ta reda på den årliga totala försäljningstrenden i den Amerikanska marknaden mellan 2011 och 2014. Jag har joinat ihop kolumner från tabeller som Sales.SalesOrderHeader, Person.Address, Person.StateProvince för att få reda på den totala försäljningen per år och specifikt för USA. Därefter grupperade jag datan baserade på årtal och region"
   ]
  },
  {
   "cell_type": "code",
   "execution_count": null,
   "metadata": {},
   "outputs": [
    {
     "data": {
      "image/png": "[encoded data removed]",
      "text/plain": [
       "<Figure size 800x500 with 1 Axes>"
      ]
     },
     "metadata": {},
     "output_type": "display_data"
    }
   ],
   "source": [
    "Sales_Trend = data.sort_values(by='TotalSales')\n",
    "x = Sales_Trend['Year']\n",
    "y = Sales_Trend['TotalSales']\n",
    "\n",
    "plt.figure(figsize=(8, 5))\n",
    "plt.bar(x, y, color='darkgreen')\n",
    "plt.xlabel(\"Year\")\n",
    "plt.ylabel(\"Totalsales\")\n",
    "plt.title(\"försäljningsskillnad mellan 2011 och 2014 i USA\")\n",
    "plt.tight_layout()\n",
    "plt.show()"
   ]
  },
  {
   "cell_type": "markdown",
   "metadata": {},
   "source": [
    "För att kunna visualisera vår query ovan har jag använt mig av matplotlib och valde då att göra detta i form av en stapeldiagram. Med hjälp av (data.sort_values) hämtar man datan (resultatet) från queryn och sorterar datan utifrån den totalaförsäljningen eller årtal. (plt.figure) hanterar bredden och höjden för en snyggare visalisering på vår diagram."
   ]
  },
  {
   "cell_type": "code",
   "execution_count": 129,
   "metadata": {},
   "outputs": [
    {
     "name": "stdout",
     "output_type": "stream",
     "text": [
      "Medelvärdet: 17707465.75\n",
      "Standardavvikelsen: 8831814.578733085\n"
     ]
    }
   ],
   "source": [
    "mean = data['TotalSales'].mean()\n",
    "std_dev = data['TotalSales'].std(ddof=1)\n",
    "\n",
    "print(f\"Medelvärdet: {mean}\")\n",
    "print(f\"Standardavvikelsen: {std_dev}\")"
   ]
  },
  {
   "cell_type": "code",
   "execution_count": 181,
   "metadata": {},
   "outputs": [
    {
     "name": "stdout",
     "output_type": "stream",
     "text": [
      "Konfidensintervallet ligger mellan: [10211861.479037322 och 25203070.020962678]\n"
     ]
    }
   ],
   "source": [
    "# 95% signifikansnivån.\n",
    "\n",
    "z_värde = 1.96 \n",
    "mean = data['TotalSales'].mean()\n",
    "std_dev = data['TotalSales'].std(ddof=0)\n",
    "n = 4\n",
    "\n",
    "nedre_intervall = mean - z_värde * std_dev / math.sqrt(n)\n",
    "övre_intervall = mean + z_värde * std_dev / math.sqrt(n)\n",
    "\n",
    "print(f\"Konfidensintervallet ligger mellan: [{nedre_intervall} och {övre_intervall}]\")"
   ]
  },
  {
   "cell_type": "markdown",
   "metadata": {},
   "source": [
    "##\n",
    "Resultatet visar att den genomsnittliga totalaförsäljningen i USA mellan 2011 och 2014 ligger med 95% konfidensintervall mellan intervallen 10 211 861 och 25 203 070. Jag utgår ifrån en z-fördelning med ett känd populations standardavvikelse då jag anser att datan representerar hela populationen i databasen."
   ]
  },
  {
   "cell_type": "code",
   "execution_count": null,
   "metadata": {},
   "outputs": [
    {
     "data": {
      "text/html": [
       "<div>\n",
       "<style scoped>\n",
       "    .dataframe tbody tr th:only-of-type {\n",
       "        vertical-align: middle;\n",
       "    }\n",
       "\n",
       "    .dataframe tbody tr th {\n",
       "        vertical-align: top;\n",
       "    }\n",
       "\n",
       "    .dataframe thead th {\n",
       "        text-align: right;\n",
       "    }\n",
       "</style>\n",
       "<table border=\"1\" class=\"dataframe\">\n",
       "  <thead>\n",
       "    <tr style=\"text-align: right;\">\n",
       "      <th></th>\n",
       "      <th>Employee Name</th>\n",
       "      <th>JobTitle</th>\n",
       "      <th>Hourly Rate</th>\n",
       "      <th>Gender</th>\n",
       "    </tr>\n",
       "  </thead>\n",
       "  <tbody>\n",
       "    <tr>\n",
       "      <th>0</th>\n",
       "      <td>Ken Sánchez</td>\n",
       "      <td>Chief Executive Officer</td>\n",
       "      <td>126.0</td>\n",
       "      <td>M</td>\n",
       "    </tr>\n",
       "    <tr>\n",
       "      <th>1</th>\n",
       "      <td>James Hamilton</td>\n",
       "      <td>Vice President of Production</td>\n",
       "      <td>84.0</td>\n",
       "      <td>M</td>\n",
       "    </tr>\n",
       "    <tr>\n",
       "      <th>2</th>\n",
       "      <td>Brian Welcker</td>\n",
       "      <td>Vice President of Sales</td>\n",
       "      <td>72.0</td>\n",
       "      <td>M</td>\n",
       "    </tr>\n",
       "    <tr>\n",
       "      <th>3</th>\n",
       "      <td>Terri Duffy</td>\n",
       "      <td>Vice President of Engineering</td>\n",
       "      <td>63.0</td>\n",
       "      <td>F</td>\n",
       "    </tr>\n",
       "    <tr>\n",
       "      <th>4</th>\n",
       "      <td>Laura Norman</td>\n",
       "      <td>Chief Financial Officer</td>\n",
       "      <td>60.0</td>\n",
       "      <td>F</td>\n",
       "    </tr>\n",
       "    <tr>\n",
       "      <th>5</th>\n",
       "      <td>Jean Trenary</td>\n",
       "      <td>Information Services Manager</td>\n",
       "      <td>50.0</td>\n",
       "      <td>F</td>\n",
       "    </tr>\n",
       "    <tr>\n",
       "      <th>6</th>\n",
       "      <td>Dylan Miller</td>\n",
       "      <td>Research and Development Manager</td>\n",
       "      <td>50.0</td>\n",
       "      <td>M</td>\n",
       "    </tr>\n",
       "    <tr>\n",
       "      <th>7</th>\n",
       "      <td>Syed Abbas</td>\n",
       "      <td>Pacific Sales Manager</td>\n",
       "      <td>48.0</td>\n",
       "      <td>M</td>\n",
       "    </tr>\n",
       "    <tr>\n",
       "      <th>8</th>\n",
       "      <td>Amy Alberts</td>\n",
       "      <td>European Sales Manager</td>\n",
       "      <td>48.0</td>\n",
       "      <td>F</td>\n",
       "    </tr>\n",
       "    <tr>\n",
       "      <th>9</th>\n",
       "      <td>Stephen Jiang</td>\n",
       "      <td>North American Sales Manager</td>\n",
       "      <td>48.0</td>\n",
       "      <td>M</td>\n",
       "    </tr>\n",
       "  </tbody>\n",
       "</table>\n",
       "</div>"
      ],
      "text/plain": [
       "    Employee Name                          JobTitle  Hourly Rate Gender\n",
       "0     Ken Sánchez           Chief Executive Officer        126.0      M\n",
       "1  James Hamilton      Vice President of Production         84.0      M\n",
       "2   Brian Welcker           Vice President of Sales         72.0      M\n",
       "3     Terri Duffy     Vice President of Engineering         63.0      F\n",
       "4    Laura Norman           Chief Financial Officer         60.0      F\n",
       "5    Jean Trenary      Information Services Manager         50.0      F\n",
       "6    Dylan Miller  Research and Development Manager         50.0      M\n",
       "7      Syed Abbas             Pacific Sales Manager         48.0      M\n",
       "8     Amy Alberts            European Sales Manager         48.0      F\n",
       "9   Stephen Jiang      North American Sales Manager         48.0      M"
      ]
     },
     "execution_count": 91,
     "metadata": {},
     "output_type": "execute_result"
    }
   ],
   "source": [
    "Gender_wage = \"\"\"\n",
    "SELECT TOP 10\n",
    "\tb.FirstName + ' ' + b.LastName as [Employee Name],\n",
    "\te.JobTitle,\n",
    "    ROUND((eph.Rate), 0) AS [Hourly Rate],\n",
    "\te.Gender\n",
    "FROM HumanResources.EmployeePayHistory AS eph\n",
    "JOIN HumanResources.Employee AS e on eph.BusinessEntityID = e.BusinessEntityID\n",
    "JOIN Person.Person as b on e.BusinessEntityID = b.BusinessEntityID\n",
    "WHERE\n",
    "    eph.RateChangeDate = (\n",
    "        SELECT MAX(RateChangeDate)\n",
    "        FROM HumanResources.EmployeePayHistory\n",
    "        WHERE BusinessEntityID = eph.BusinessEntityID)\n",
    "ORDER BY eph.Rate DESC;\n",
    "\"\"\"\n",
    "data = pd.read_sql(sql = Gender_wage, con=connection)\n",
    "data"
   ]
  },
  {
   "cell_type": "markdown",
   "metadata": {},
   "source": [
    "I denna delen har jag valt att studera om det råder något samband mellan timlön och kön gällande företagets anställda. I min analys har jag endast utgått ifrån de 10 topp mest tjänade anställda i företaget. Om man tittar på tabellen ovan kan man redan konstatera att de 3 topp anställda som tjänar mest i företaget är män. Dock kan man inte fastställa utifrån tabellen om detta har någon koppling till vilken kön man tillhör, utan behöver man genomföra ytterligare analys för att avgöra om det verkligen råder något samband mellan dessa två variabler. För att komma fram till den här tabellen har jag valt ut relevanta kolumner genom att joina HumanResources.EmployeePayHistory, Person.Person och HumanResources.Employee tabeller. Slutligen filtrerade jag queryn så att jag fick endast den högst tjänade timlönen för varje anställd. "
   ]
  },
  {
   "cell_type": "code",
   "execution_count": null,
   "metadata": {},
   "outputs": [
    {
     "data": {
      "image/png": "[encoded data removed]",
      "text/plain": [
       "<Figure size 1000x600 with 1 Axes>"
      ]
     },
     "metadata": {},
     "output_type": "display_data"
    }
   ],
   "source": [
    "male_rates = data[data['Gender'] == 'M']['Hourly Rate']\n",
    "female_rates = data[data['Gender'] == 'F']['Hourly Rate']\n",
    "\n",
    "plt.figure(figsize=(10, 6))\n",
    "sns.boxplot(x='Gender', y='Hourly Rate', data=data,hue='Gender')\n",
    "##sns.boxplot(x='Gender', y='Hourly Rate', data=data, palette='coolwarm')\n",
    "plt.title(\"Hourly Rate Distribution by Gender\")\n",
    "plt.ylabel(\"Hourly Rate\")\n",
    "plt.xlabel(\"Gender\")\n",
    "plt.show()"
   ]
  },
  {
   "cell_type": "code",
   "execution_count": 175,
   "metadata": {},
   "outputs": [
    {
     "name": "stdout",
     "output_type": "stream",
     "text": [
      "Average male rate = 71.33333333333333 and Average female rate = 55.25\n",
      "Median male rates = 61.0 and Median female rate = 55.0\n",
      "Max male rates = 126.0 and Max female rates = 63.0\n",
      "Min male rates = 48.0 and Min female rates = 48.0\n"
     ]
    }
   ],
   "source": [
    "print(f\"Average male rate = {male_rates.mean()} and Average female rate = {female_rates.mean()}\")\n",
    "print(f\"Median male rates = {male_rates.median()} and Median female rate = {female_rates.median()}\")\n",
    "print(f\"Max male rates = {male_rates.max()} and Max female rates = {female_rates.max()}\")\n",
    "print(f\"Min male rates = {male_rates.min()} and Min female rates = {female_rates.min()}\")"
   ]
  },
  {
   "cell_type": "markdown",
   "metadata": {},
   "source": [
    "Här valde jag att visualisera datan som vi fick fram i vår tabell i form av en candlestick-diagram. Vi kan exempelvis se att den högst tjänade man och kvinna i företaget har ungefär 126 respektive 63 i timlön, vilket är dubellt så mycket skillnad i timlön. Medianen ligger ungefär 61 i timlön för de manliga respektive 55 för de kvinnliga anställda. Nånitng som inte visas i diagramet men som kan vara intressant är den genomsnittliga timlönen för respektive kön. Gneomsnittet för de manliga anställda ligger runt 71 medan för det ligger runt 55 för de kvinnliga anställda. Genomsnittet och medianen för de kvinnliga anställda är ungefär samma medan det finns 10 i timlön skillnad mellan genomsnittet och medianen för de manliga anställda. Detta kan bero på den eventuellt extrema värden i vår tabell som är 126 för den mest tjänade personen i företaget. Det kan förvränga tolkningen av resultatet i en analys eftersom medelvärdet är ett ganska känsligt mått när det kommer till extrema värden i en data."
   ]
  },
  {
   "cell_type": "code",
   "execution_count": 177,
   "metadata": {},
   "outputs": [
    {
     "name": "stdout",
     "output_type": "stream",
     "text": [
      "t_stat = 1.0113083937858176\n",
      "p_value = 0.3414748362343398\n",
      "\n",
      "Det råder inget signifikant samband mellan timlön och kön vid en 5.0% signifikansnivå.\n"
     ]
    }
   ],
   "source": [
    "t_stat, p_value = ttest_ind(male_rates, female_rates)\n",
    "\n",
    "print(f\"t_stat = {t_stat}\"),\n",
    "print(f\"p_value = {p_value}\")\n",
    "print()\n",
    "\n",
    "alpha = 0.05     # 95% konfidensintervall\n",
    "\n",
    "if p_value > alpha:\n",
    "    print(f\"Det råder inget signifikant samband mellan timlön och kön vid en {alpha * 100}% signifikansnivå.\")\n",
    "else:\n",
    "    print(f\"Det råder ett signifikant samband mellan timlön och kön vid en {alpha * 100}% signifikansnivå.\")"
   ]
  },
  {
   "cell_type": "markdown",
   "metadata": {},
   "source": [
    "För att studera sambandet mellan timlön och kön på djupet har jag framställt en hypotesprövning där, nollhypotesen är att det råder inget signifikant samband mellan variablerna, och mothypotesen är att det finns ett signifikant samband mellan variablerna. För att beräkna t-värdet och p-värdet har jag använt mig av scipy.stats biblioteket och fick fram en t-fördelning på 1.01 och p-värdet på 0.34. För att avgöra om resultatet är signifikant eller inte, utgår jag ifrån en konfidensintervall på 95%. Det innebär att om p-värdet är mindre än vårt signifikansnivå som är 0.05, så råder det ett signifikant samband mellan våra två variabler och då förkastar vi nollhypotesen. I det här fallet så är p-värdet mycket större än vårt signifikantnivå, vilket betyder att det inte råder något signifikant samband mellan timlön och kön. Därför förkastar vi inte nollhypotesen."
   ]
  },
  {
   "cell_type": "markdown",
   "metadata": {},
   "source": [
    "## Slutsatser och rekommendationer"
   ]
  },
  {
   "cell_type": "markdown",
   "metadata": {},
   "source": [
    "Man kan dra slutsatsen att det finns en stark indikation på att det inte råder något signifikant samband mellan hur mycket man tjänar och vilken kön man tillhör i företaget. Dock är det viktigt att poängtera att vå urval utgår endast utifrån de topp 10 anställda som tjänar mest i företaget vilket är en ganska liten stickprov att utgå ifrån och förmodligen inte ger en rättvis bild av hela populationen. Därför skulle jag rekommendera att man gör en större analys och utgår ifrån en bredare urval i en framtida undersökning. Dessutom skulle man också kunna utesluta extrema värden som kan komma att förvränga resultatet av en analys och troligtvis komma fram till felaktiga slutsatser."
   ]
  },
  {
   "cell_type": "markdown",
   "metadata": {},
   "source": [
    "## Executive summary"
   ]
  },
  {
   "cell_type": "markdown",
   "metadata": {},
   "source": [
    "I min omfattande analys av databasen har jag kunnat konstatera att datan innehåller information bland annat om företagets anställda, kunder, produkter, försäljning, avdelningar osv. Den innehåller även data om personliga upppgifter om de anställda och företagets kunder såsom deras för- och efternamn, vilket land som kommer ifrån, deras jobbtitlar och födelsedagar. Från databasen kan man exempelvis exekvera information om vilka produkter som säljer mest, vilka anställda som presterar bäst i företaget, vilka produkter eller regioner som har varit mest lönsamma genom åren. Dessutom kan man studera samband mellan olika variabler som man tycker kan vara intressanta att ta reda på såsom att studera sambandet mellan hur mycket man tjänar och vilken kön man tillhör eller om det finns någon korrelation mellan produktpriserna och försäljningsvolymerna. Ytterligare skulle man kunna göra framtida utsikter och förutspå kommande trender på marknaden baserat på historisk data. Man skulle kunna framställa detta med hjälp av olika analysmetoder som tiddserieanalys, regressionsanalys eller Machine Learning. "
   ]
  },
  {
   "cell_type": "markdown",
   "metadata": {},
   "source": [
    "## Självvärdering"
   ]
  },
  {
   "cell_type": "markdown",
   "metadata": {},
   "source": [
    "1. Den största utmaningen med detta arbete har varit att genomföra den statistiska analysdelen och vilken analysmetod som var mest passande att utgå ifrån. En annan utmaning på en mindre skala har varit att förstå hur man skulle göra själva uppkopplingen till databasen men med hjälp av några sökningar har man kunnat få en bättre förståelse för hur det fungerar.\n",
    "\n",
    "2. Det är svårt att själv bedöma hur bra man har presterat men man kan väl alltid hoppas att det blir en VG.\n",
    "\n",
    "3. Största tipset jag hade velat höra i början av varje kurs är väl att följa kursschemat och läsa på innan varje föreläsningsmoment så att man är förberedd på vad som kommer komma på föreläsningen. Det gör också att man hänger med genom hela föreläsningen och är mer delaktigt i diskussionen.\n",
    "\n",
    "Den muntliga presentationen av arbetet genomfördes fredagen 2025-01-03 i grupp.\n"
   ]
  }
 ],
 "metadata": {
  "kernelspec": {
   "display_name": "base",
   "language": "python",
   "name": "python3"
  },
  "language_info": {
   "codemirror_mode": {
    "name": "ipython",
    "version": 3
   },
   "file_extension": ".py",
   "mimetype": "text/x-python",
   "name": "python",
   "nbconvert_exporter": "python",
   "pygments_lexer": "ipython3",
   "version": "3.12.4"
  }
 },
 "nbformat": 4,
 "nbformat_minor": 2
}
